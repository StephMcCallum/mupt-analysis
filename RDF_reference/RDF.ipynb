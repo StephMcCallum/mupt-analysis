{
 "cells": [
  {
   "cell_type": "code",
   "execution_count": null,
   "id": "c801dc05-b650-4683-96b9-c967df93c95f",
   "metadata": {
    "tags": []
   },
   "outputs": [
    {
     "name": "stderr",
     "output_type": "stream",
     "text": [
      "/home/ganguly.sirsha/.local/lib/python3.10/site-packages/MDAnalysis/topology/LAMMPSParser.py:651: UserWarning: Guessed all Masses to 1.0\n",
      "  warnings.warn(\"Guessed all Masses to 1.0\")\n",
      "/home/ganguly.sirsha/.local/lib/python3.10/site-packages/MDAnalysis/coordinates/LAMMPS.py:751: UserWarning: Reader has no dt information, set to 1.0 ps\n",
      "  ts.data[\"time\"] = step_num * ts.dt\n"
     ]
    },
    {
     "name": "stdout",
     "output_type": "stream",
     "text": [
      "['1' '1' '1' ... '1' '1' '1']\n"
     ]
    }
   ],
   "source": [
    "import MDAnalysis as mda\n",
    "from MDAnalysis.analysis.rdf import InterRDF\n",
    "import matplotlib.pyplot as plt\n",
    "u = mda.Universe(\"production_4ns.dump\", format=\"LAMMPSDUMP\")\n",
    "u.trajectory[0]\n",
    "\n",
    "# Print atom types or names to help you choose CG beads\n",
    "print(u.atoms.types)\n",
    "\n",
    "# print(u.atoms.names) \n",
    "\n",
    "# Select coarse-grained beads by type (example: type 1 vs type 1)\n",
    "# Adjust this according to your CG model\n",
    "group1 = u.select_atoms(\"type 1\")\n",
    "group2 = u.select_atoms(\"type 1\")\n",
    "\n",
    "# Initialize the RDF calculation (defaults: bins=75, range=(0, 15))\n",
    "rdf = InterRDF(group1, group2, nbins=200, range=(0.0, 20.0))\n",
    "rdf.run()\n",
    "\n",
    "# Plot RDF\n",
    "plt.figure(figsize=(8, 5))\n",
    "plt.plot(rdf.bins, rdf.rdf, label='RDF (type 1 vs type 1)')\n",
    "plt.xlabel('Distance (Å)')\n",
    "plt.ylabel('g(r)')\n",
    "plt.title('Radial Distribution Function')\n",
    "plt.grid(True)\n",
    "plt.legend()\n",
    "plt.tight_layout()\n",
    "plt.show()\n"
   ]
  },
  {
   "cell_type": "code",
   "execution_count": null,
   "id": "e7dc2422-fc28-409a-9a96-1170017692ae",
   "metadata": {},
   "outputs": [],
   "source": []
  }
 ],
 "metadata": {
  "kernelspec": {
   "display_name": "Python 3 (ipykernel)",
   "language": "python",
   "name": "python3"
  },
  "language_info": {
   "codemirror_mode": {
    "name": "ipython",
    "version": 3
   },
   "file_extension": ".py",
   "mimetype": "text/x-python",
   "name": "python",
   "nbconvert_exporter": "python",
   "pygments_lexer": "ipython3",
   "version": "3.10.12"
  }
 },
 "nbformat": 4,
 "nbformat_minor": 5
}
